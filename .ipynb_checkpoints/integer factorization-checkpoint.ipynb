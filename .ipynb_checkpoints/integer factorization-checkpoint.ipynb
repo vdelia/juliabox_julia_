{
 "cells": [
  {
   "cell_type": "markdown",
   "metadata": {},
   "source": [
    "# Trial Division\n",
    "\n",
    "The most naive algorithm for integers factorization is [Trial Division][trial]: to find\n",
<<<<<<< Updated upstream
    "the prime factors of $N$, we try to divide it by all smaller prime numbers.\n",
    "\n",
    "Thus, we need a prime numbers sieve to generate all primes up to $\\sqrt{N}$.\n",
    "\n",
    "I use the Sundaram sieve, but I exploit the iteration interface of Julia to have\n",
    "a lazy implementation.\n",
    "\n",
    "## Iteration Interface: a lazy implementation of Sundaram Sieve\n",
    "\n",
=======
    "the prime factors of $N$, we try to divide it by all prime numbers smaller than  $\\sqrt{N}$.\n",
    "\n",
    "To generate the prime numbers, I use the Sundaram sieve, but I exploit the iteration\n",
    "interface of Julia to have a lazy implementation of it.\n",
    "\n",
    "\n",
    "## Iteration Interface: a lazy implementation of Sundaram Sieve\n",
    "\n",
    "Julia can be extended with new user defined types. [interface][interfaces],\n",
    "user defined types can be integrated seamlessly into the language.\n",
    "Consider for example the \n",
>>>>>>> Stashed changes
    "\n",
    "The Iterator [interface][interfaces] icharacterized by three methods: start, next, done.\n",
    "To define a lazy version of the sundaram sieve, I create a new type, and I provide the\n",
    "implementation of those three methods for this new [composite type][composite-types]."
   ]
  },
  {
   "cell_type": "code",
   "execution_count": 2,
   "metadata": {
    "collapsed": false
   },
   "outputs": [],
   "source": [
    "immutable Sieve{N<:Integer}\n",
    "    is_prime::BitArray\n",
    "    ub::N\n",
    "end"
   ]
  },
  {
   "cell_type": "code",
   "execution_count": 17,
   "metadata": {
    "collapsed": false
   },
   "outputs": [
    {
     "data": {
      "text/plain": [
       "done (generic function with 37 methods)"
      ]
     },
     "execution_count": 17,
     "metadata": {},
     "output_type": "execute_result"
    }
   ],
   "source": [
    "sundaram_sieve(n::Integer) = Sieve(trues(n), div(n, 2))\n",
    "\n",
    "# the first state. In the state keep the last checked integer\n",
    "Base.start(s::Sieve) = 1\n",
    "\n",
    "function Base.next(s::Sieve, state)\n",
    "    \n",
    "    for i = state:s.ub\n",
    "        step = i * 2 + 1\n",
    "        for j=i+i*step:step:s.ub\n",
    "            s.is_prime[j] = false\n",
    "        end\n",
    "        if s.is_prime[i]\n",
    "            return (max(2, (state-1)*2+1), i+1)\n",
    "        end\n",
    "    end\n",
    "    (max(2, (state-1)*2+1), s.ub)\n",
    "end\n",
    "\n",
    "Base.done(s::Sieve, state) = state == s.ub"
   ]
  },
  {
   "cell_type": "code",
   "execution_count": 18,
   "metadata": {
    "collapsed": false
   },
   "outputs": [
    {
     "name": "stdout",
     "output_type": "stream",
     "text": [
      "2 3 5 7 11 13 17 "
     ]
    }
   ],
   "source": [
    "for i = sundaram_sieve(20)\n",
    "    print(\"$i \")\n",
    "end"
   ]
  },
  {
   "cell_type": "markdown",
   "metadata": {},
   "source": [
<<<<<<< Updated upstream
    "\n",
    "[interfaces]: http://docs.julialang.org/en/release-0.4/manual/interfaces/\n",
    "[composite-types]: http://docs.julialang.org/en/release-0.4/manual/types/#composite-types\n",
    "[trial]: https://en.wikipedia.org/wiki/Trial_division\n"
=======
    "[interfaces]: http://docs.julialang.org/en/release-0.4/manual/interfaces/\n",
    "[composite-types]: http://docs.julialang.org/en/release-0.4/manual/types/#composite-types\n",
    "[trial]: https://en.wikipedia.org/wiki/Trial_division"
>>>>>>> Stashed changes
   ]
  }
 ],
 "metadata": {
  "kernelspec": {
   "display_name": "Julia 0.3.11",
   "language": "julia",
   "name": "julia-0.3"
  },
  "language_info": {
   "file_extension": ".jl",
   "mimetype": "application/julia",
   "name": "julia",
   "version": "0.3.11"
  }
 },
 "nbformat": 4,
 "nbformat_minor": 0
}
