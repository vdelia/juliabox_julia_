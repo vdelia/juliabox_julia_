{
 "cells": [
  {
   "cell_type": "markdown",
   "metadata": {},
   "source": [
    "# Euler 7\n",
    "\n",
    "https://projecteuler.net/problem=7\n",
    "\n",
    "> By listing the first six prime numbers: 2, 3, 5, 7, 11, and 13, we can see that the 6th prime is 13.\n",
    "\n",
    "> What is the 10 001st prime number?\n",
    "\n",
    "I guess the fastest solution is by using a sieve.\n",
    "\n",
    "\n",
    "## Upper bound\n",
    "\n",
    "Before running a sieve, we need to determine the size of the sieve. To do\n",
    "this, we can apply  *https://en.wikipedia.org/wiki/Prime-counting_function#Inequalities*\n",
    "to determine an upper bound for the nth prime."
   ]
  },
  {
   "cell_type": "code",
   "execution_count": 1,
   "metadata": {
    "collapsed": false
   },
   "outputs": [
    {
     "data": {
      "text/plain": [
       "get_upper_bound (generic function with 1 method)"
      ]
     },
     "execution_count": 1,
     "metadata": {},
     "output_type": "execute_result"
    }
   ],
   "source": [
    "function get_upper_bound(nth_prime)\n",
    "    ub::Integer = ceil(nth_prime * log(nth_prime * log(nth_prime)))\n",
    "    max(ub, 7)\n",
    "end"
   ]
  },
  {
   "cell_type": "markdown",
   "metadata": {},
   "source": [
    "Julia has a dynamic type system, but we can add [type annotation][type_doc] to variables, like *ub*, to \n",
    "generate more efficient code.\n",
    "\n",
    "Moreover, `get_upper_bound` is a *generic function*. We can write several implementations of it, by adding different\n",
    "type specialization of its arguments ([*multimethods*][methods]). Then, Julia chooses the concrete implementation to run by implementing *multiple dispatch*."
   ]
  },
  {
   "cell_type": "code",
   "execution_count": 2,
   "metadata": {
    "collapsed": false
   },
   "outputs": [
    {
     "data": {
      "text/plain": [
       "114320"
      ]
     },
     "execution_count": 2,
     "metadata": {},
     "output_type": "execute_result"
    }
   ],
   "source": [
    "target_nth_prime = 10001\n",
    "ub = get_upper_bound(target_nth_prime)"
   ]
  },
  {
   "cell_type": "markdown",
   "metadata": {},
   "source": [
    "## The Sieve data structure\n",
    "\n",
    "The sieve algorithms work on an array of size $n$, s.t. $v[i]$ is true if $i$ is prime.\n",
    "\n",
    "Julia provides a very convenient bit array for this purpose.\n",
    "\n",
    "**Julia arrays are indexed starting from 1, not 0.**"
   ]
  },
  {
   "cell_type": "code",
   "execution_count": 3,
   "metadata": {
    "collapsed": false
   },
   "outputs": [
    {
     "ename": "LoadError",
     "evalue": "BoundsError()\nwhile loading In[3], in expression starting on line 2",
     "output_type": "error",
     "traceback": [
      "BoundsError()\nwhile loading In[3], in expression starting on line 2",
      "",
      " in getindex at ./bitarray.jl:350"
     ]
    }
   ],
   "source": [
    "v = trues(ub)\n",
    "v[0]"
   ]
  },
  {
   "cell_type": "markdown",
   "metadata": {},
   "source": [
    "## Sieve of Eratosthenes\n",
    "\n",
    "First of all I try the [Sieve of Eratosthenes][eratosthenes]."
   ]
  },
  {
   "cell_type": "code",
   "execution_count": 4,
   "metadata": {
    "collapsed": false
   },
   "outputs": [
    {
     "name": "stdout",
     "output_type": "stream",
     "text": [
      "elapsed time: 0.014452114 seconds (430144 bytes allocated)\n"
     ]
    },
    {
     "data": {
      "text/plain": [
       "104743"
      ]
     },
     "execution_count": 4,
     "metadata": {},
     "output_type": "execute_result"
    }
   ],
   "source": [
    "function eratosthenes_sieve(target_nth)\n",
    "    n = get_upper_bound(target_nth)\n",
    "    root_n::Integer = floor(sqrt(n))\n",
    "    sieve = trues(n)\n",
    "    sieve[1] = false\n",
    "    \n",
    "    for i = 2:root_n\n",
    "        if sieve[i]\n",
    "            # this is faster than v[i^2:i:n] = false\n",
    "            for j=i^2:i:n\n",
    "                sieve[j] = false\n",
    "            end\n",
    "            target_nth -= 1\n",
    "            if 0 == target_nth\n",
    "                return i\n",
    "            end\n",
    "        end\n",
    "    end\n",
    "    \n",
    "    # I keep going past sqrt(n) until the target_nth\n",
    "    for i = root_n+1:n\n",
    "        if sieve[i]\n",
    "            target_nth -= 1\n",
    "            if 0 == target_nth\n",
    "                return i\n",
    "            end\n",
    "        end\n",
    "    end\n",
    "end\n",
    "\n",
    "@time eratosthenes_sieve(target_nth_prime)"
   ]
  },
  {
   "cell_type": "markdown",
   "metadata": {},
   "source": [
    "Here we measure the elapsed time by using the macro `time`.\n",
    "\n",
    "Macros are not functions, and this is made explicit with the `@` prefix.\n",
    "\n",
    "## Sieve of Sundaram\n",
    "\n",
    "The [sieve of Sundaram][sundaram] is slightly more complex. Compared to Eratosthenes's, it skips even numbers.\n"
   ]
  },
  {
   "cell_type": "code",
   "execution_count": 5,
   "metadata": {
    "collapsed": false
   },
   "outputs": [
    {
     "name": "stdout",
     "output_type": "stream",
     "text": [
      "elapsed time: 0.010705828 seconds (293692 bytes allocated)\n"
     ]
    },
    {
     "data": {
      "text/plain": [
       "104743"
      ]
     },
     "execution_count": 5,
     "metadata": {},
     "output_type": "execute_result"
    }
   ],
   "source": [
    "function sundaram_sieve(target_nth)\n",
    "    ub = get_upper_bound(target_nth)\n",
    "    sieve = trues(ub)\n",
    "    n = div(ub, 2)\n",
    "    target_nth -= 1 # it skips 2\n",
    "    for i = 1:n\n",
    "        step = i * 2 + 1\n",
    "        for j=i+i*step:step:n\n",
    "            sieve[j] = false\n",
    "        end\n",
    "        if sieve[i]\n",
    "            target_nth -= 1\n",
    "            if 0 == target_nth\n",
    "                return i*2+1\n",
    "            end\n",
    "        end\n",
    "    end\n",
    "end\n",
    "\n",
    "\n",
    "@time sundaram_sieve(target_nth_prime)"
   ]
  },
  {
   "cell_type": "markdown",
   "metadata": {},
   "source": [
    "## Sieve of Atkin\n",
    "\n",
    "The [sieve of Atkin][atkin] is a fast and modern algorithm for prime generation. It **can** be faster than the others,\n",
    "depending on how smart is your implementation.\n",
    "\n",
    "For the following code, I applied ideas from [this page][implementation].\n"
   ]
  },
  {
   "cell_type": "code",
   "execution_count": 6,
   "metadata": {
    "collapsed": false
   },
   "outputs": [
    {
     "name": "stdout",
     "output_type": "stream",
     "text": [
      "elapsed time: 0.031512008 seconds (1497144 bytes allocated)\n"
     ]
    },
    {
     "data": {
      "text/plain": [
       "104743"
      ]
     },
     "execution_count": 6,
     "metadata": {},
     "output_type": "execute_result"
    }
   ],
   "source": [
    "function get_bitmask(n, idx)\n",
    "    f = falses(n)\n",
    "    for i in idx\n",
    "        f[i] = true\n",
    "    end\n",
    "    f\n",
    "end\n",
    "\n",
    "# http://www.codeproject.com/Articles/490085/Eratosthenes-Sundaram-Atkins-Sieve-Implementation\n",
    "function atkin_sieve(target_nth)\n",
    "    \n",
    "    if target_nth < 4\n",
    "        return eratosthenes_sieve(target_nth)\n",
    "    end\n",
    "    \n",
    "    ub = get_upper_bound(target_nth)\n",
    "    root_ub::Integer = floor(sqrt(ub))\n",
    "    target_nth -= 3\n",
    "    is_prime = get_bitmask(ub, [2, 3, 5])\n",
    "    \n",
    "    step31_filter = get_bitmask(60, [1, 13, 17, 29, 37, 41, 49, 53])\n",
    "    step32_filter = get_bitmask(60, [7, 19, 31, 43])\n",
    "    step33_filter = get_bitmask(60, [11, 23, 47, 59])\n",
    "    \n",
    "    x, x_square, x_step = 1, 1, 3\n",
    "    \n",
    "    while x <= root_ub\n",
    "    \n",
    "        y, y_square, y_step = 1, 1, 3\n",
    "        while y <= root_ub\n",
    "            # 4x^2 + y^2\n",
    "            n = (x_square << 2) + y_square\n",
    "            n_mod_60 = n % 60\n",
    "            if n <= ub && n_mod_60 > 0 && step31_filter[n_mod_60]\n",
    "                is_prime[n] = !is_prime[n]\n",
    "            end\n",
    "            \n",
    "            # 3x^2 + y^2\n",
    "            n -= x_square\n",
    "            n_mod_60 = n % 60\n",
    "            if n <= ub && n_mod_60 > 0 && step32_filter[n_mod_60]\n",
    "                is_prime[n] = !is_prime[n]\n",
    "            end\n",
    "            \n",
    "            if x > y\n",
    "                n -= (y_square << 1)\n",
    "                n_mod_60 = n % 60\n",
    "                if n <= ub && n_mod_60 > 0 && step33_filter[n_mod_60]\n",
    "                    is_prime[n] = !is_prime[n]\n",
    "                end\n",
    "            end\n",
    "            \n",
    "            y += 1\n",
    "            y_square += y_step\n",
    "            y_step += 2\n",
    "        end\n",
    "        x += 1\n",
    "        x_square += x_step\n",
    "        x_step += 2\n",
    "    end\n",
    "    \n",
    "    for n = 7:root_ub\n",
    "        if is_prime[n]\n",
    "            target_nth -= 1\n",
    "            if 0 == target_nth\n",
    "                return n\n",
    "            end\n",
    "            \n",
    "            n_squared = n^2\n",
    "            for c = n_squared:n_squared:ub\n",
    "                is_prime[c] = false\n",
    "            end\n",
    "        end\n",
    "    end\n",
    "    \n",
    "    for n = root_ub+1:ub\n",
    "        if is_prime[n]\n",
    "            target_nth -= 1\n",
    "            if 0 == target_nth\n",
    "                return n\n",
    "            end\n",
    "        end\n",
    "    end\n",
    "end\n",
    "\n",
    "@time atkin_sieve(target_nth_prime)"
   ]
  },
  {
   "cell_type": "markdown",
   "metadata": {},
   "source": [
    "For the Euler 7 assignment, this implementation is the slowest of the three, \n",
    "but we want to benchmark for bigger primes!\n",
    "\n",
    "\n",
    "# Benchmark\n",
    "The function `bench_sieve` takes an ordinal identifying the prime to generate,\n",
    "the sieve to use, and the number of runs.\n",
    "\n",
    "It runs the sieve a first time, just to be sure it is compiled by the Julia interpreter,\n",
    "and then it measure the elapsed time as a mean over the specified number of runs."
   ]
  },
  {
   "cell_type": "code",
   "execution_count": 7,
   "metadata": {
    "collapsed": false
   },
   "outputs": [
    {
     "data": {
      "text/plain": [
       "bench_sieve (generic function with 2 methods)"
      ]
     },
     "execution_count": 7,
     "metadata": {},
     "output_type": "execute_result"
    }
   ],
   "source": [
    "function bench_sieve(nth_prime, generator, runs=5)\n",
    "    times = zeros(runs)\n",
    "    # run the first time just to ensure it is compiled\n",
    "    generator(nth_prime)\n",
    "    for i = 1:runs\n",
    "        times[i] = @elapsed generator(nth_prime)\n",
    "    end\n",
    "    mean(times)\n",
    "end\n"
   ]
  },
  {
   "cell_type": "markdown",
   "metadata": {},
   "source": [
    "Julia modules are imported with `using`.\n",
    "Here, I create a dictionary whose keys are the name of the algorithms (I used symbols, i.e. [interned strings][interning]),\n",
    "and whose values are the functions implementing the corresponding algorithm.\n",
    "\n",
    "Then I run the benchmark, arranging the results in a DataFrame."
   ]
  },
  {
   "cell_type": "code",
   "execution_count": null,
   "metadata": {
    "collapsed": false
   },
   "outputs": [],
   "source": [
    "using DataFrames\n",
    "\n",
    "sieves = [:Erathostenes => eratosthenes_sieve,\n",
    "          :Sundaram => sundaram_sieve,\n",
    "          :Atkin => atkin_sieve]\n",
    "\n",
    "df = DataFrame(nths = map(round, logspace(1, 7, 7)))\n",
    "for (name, sieve) in sieves\n",
    "    df[name] = map(nth -> bench_sieve(nth, sieve), df[:nths])\n",
    "end\n"
   ]
  },
  {
   "cell_type": "code",
   "execution_count": null,
   "metadata": {
    "collapsed": false
   },
   "outputs": [],
   "source": [
    "# stack all columns but nths\n",
    "melt(df, :nths)"
   ]
  },
  {
   "cell_type": "code",
   "execution_count": null,
   "metadata": {
    "collapsed": false
   },
   "outputs": [],
   "source": [
    "# to install Gadfly\n",
    "# Pkg.add(\"Gadfly\")\n",
    "using Gadfly\n",
    "\n",
    "set_default_plot_size(24cm, 16cm)\n",
    "p = plot(melt(df, :nths), x = :nths,\n",
    "         y = :value, color=:variable,\n",
    "         Guide.xlabel(\"nth prime\"),\n",
    "         Guide.ylabel(\"elapsed time [s]\"),\n",
    "         Geom.point,\n",
    "         Geom.line)\n",
    "display(p)"
   ]
  },
  {
   "cell_type": "markdown",
   "metadata": {},
   "source": [
    "For larger primes, Atkin is faster than Sundaram."
   ]
  },
  {
   "cell_type": "markdown",
   "metadata": {},
   "source": [
    "[type_doc]: http://julia.readthedocs.org/en/latest/manual/types/\n",
    "[methods]: http://julia.readthedocs.org/en/latest/manual/methods/#man-methods\n",
    "[eratosthenes]: https://en.wikipedia.org/wiki/Sieve_of_Eratosthenes\n",
    "[sundaram]: https://en.wikipedia.org/wiki/Sieve_of_Sundaram\n",
    "[atkin]: https://en.wikipedia.org/wiki/Sieve_of_Atkin\n",
    "[implementation]: http://www.codeproject.com/Articles/490085/Eratosthenes-Sundaram-Atkins-Sieve-Implementation\n",
    "[interning]: https://en.wikipedia.org/wiki/String_interning"
   ]
  }
 ],
 "metadata": {
  "kernelspec": {
   "display_name": "Julia 0.3.11",
   "language": "julia",
   "name": "julia-0.3"
  },
  "language_info": {
   "file_extension": ".jl",
   "mimetype": "application/julia",
   "name": "julia",
   "version": "0.3.11"
  }
 },
 "nbformat": 4,
 "nbformat_minor": 0
}
