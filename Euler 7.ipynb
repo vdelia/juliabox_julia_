{
 "cells": [
  {
   "cell_type": "markdown",
   "metadata": {},
   "source": [
    "# Euler 7\n",
    "\n",
    "https://projecteuler.net/problem=7\n",
    "\n",
    "> By listing the first six prime numbers: 2, 3, 5, 7, 11, and 13, we can see that the 6th prime is 13.\n",
    "\n",
    "> What is the 10 001st prime number?\n",
    "\n",
    "I guess the fastest solution is by using a sieve.\n",
    "\n",
    "*    Find a number which, for sure, is greater then the nth prime\n",
    "*https://en.wikipedia.org/wiki/Prime-counting_function#Inequalities*"
   ]
  },
  {
   "cell_type": "code",
   "execution_count": 17,
   "metadata": {
    "collapsed": false
   },
   "outputs": [
    {
     "data": {
      "text/plain": [
       "get_upper_bound (generic function with 1 method)"
      ]
     },
     "execution_count": 17,
     "metadata": {},
     "output_type": "execute_result"
    }
   ],
   "source": [
    "function get_upper_bound(nth_prime)\n",
    "    ub::Integer = ceil(nth_prime * log(nth_prime * log(nth_prime)))\n",
    "    max(ub, 7)\n",
    "end"
   ]
  },
  {
   "cell_type": "markdown",
   "metadata": {},
   "source": [
    "Julia has a dynamic type system, but we can add [type annotation][type_doc] to variables, like *ub*, to \n",
    "generate more efficient code.\n",
    "\n",
    "Moreover, `get_upper_bound` is a *generic function*. We can write several implementations of it, by adding different\n",
    "type specialization of its arguments ([*multimethods*][methods]). Then, Julia chooses which version to run by implementing *multiple dispatch*."
   ]
  },
  {
   "cell_type": "code",
   "execution_count": 26,
   "metadata": {
    "collapsed": false
   },
   "outputs": [
    {
     "data": {
      "text/plain": [
       "114320"
      ]
     },
     "execution_count": 26,
     "metadata": {},
     "output_type": "execute_result"
    }
   ],
   "source": [
    "target_nth_prime = 10001\n",
    "ub = get_upper_bound(target_nth_prime)"
   ]
  },
  {
   "cell_type": "markdown",
   "metadata": {},
   "source": [
    "*    Build an array of booleans $v$, s.t. $v[i]$ is false if $i$ is prime.\n",
    "\n",
    "Julia has a very convenient bit array for this purpose. **Julia arrays are indexed starting from 1, not 0.**"
   ]
  },
  {
   "cell_type": "code",
   "execution_count": 34,
   "metadata": {
    "collapsed": false
   },
   "outputs": [
    {
     "ename": "LoadError",
     "evalue": "BoundsError()\nwhile loading In[34], in expression starting on line 2",
     "output_type": "error",
     "traceback": [
      "BoundsError()\nwhile loading In[34], in expression starting on line 2",
      "",
      " in getindex at ./bitarray.jl:350"
     ]
    }
   ],
   "source": [
    "v = trues(ub)\n",
    "v[0]"
   ]
  },
  {
   "cell_type": "markdown",
   "metadata": {},
   "source": [
    "*    run the sieve and get the nth prime\n",
    "\n",
    "First of all I try the [Sieve of Eratosthenes][eratosthenes]."
   ]
  },
  {
   "cell_type": "code",
   "execution_count": 35,
   "metadata": {
    "collapsed": false
   },
   "outputs": [
    {
     "name": "stdout",
     "output_type": "stream",
     "text": [
      "elapsed time: 0.008924483 seconds (221936 bytes allocated)\n"
     ]
    },
    {
     "data": {
      "text/plain": [
       "104743"
      ]
     },
     "execution_count": 35,
     "metadata": {},
     "output_type": "execute_result"
    }
   ],
   "source": [
    "function eratosthenes_sieve(v, target_nth)\n",
    "    n = size(v, 1)\n",
    "    v[1] = false\n",
    "    for i = 2:n\n",
    "        if v[i]\n",
    "            # this is faster than v[i^2:i:n] = false\n",
    "            for j=i^2:i:n\n",
    "                v[j] = false\n",
    "            end\n",
    "            target_nth -= 1\n",
    "            if 0 == target_nth\n",
    "                return i\n",
    "            end\n",
    "        end\n",
    "    end\n",
    "end\n",
    "\n",
    "@time eratosthenes_sieve(v, target_nth_prime)"
   ]
  },
  {
   "cell_type": "markdown",
   "metadata": {},
   "source": [
    "The [sieve of Sundaram][sundaram] is slightly more complex. Compared to Eratosthenes's, it skips even numbers.\n"
   ]
  },
  {
   "cell_type": "code",
   "execution_count": 36,
   "metadata": {
    "collapsed": false
   },
   "outputs": [
    {
     "name": "stdout",
     "output_type": "stream",
     "text": [
      "elapsed time: 0.008864525 seconds (264072 bytes allocated)\n"
     ]
    },
    {
     "data": {
      "text/plain": [
       "104743"
      ]
     },
     "execution_count": 36,
     "metadata": {},
     "output_type": "execute_result"
    }
   ],
   "source": [
    "function sundaram_sieve(v, target_nth)\n",
    "    n = div(size(v, 1), 2)\n",
    "    target_nth -= 1 # it skips 2\n",
    "    for i = 1:n\n",
    "        step = i * 2 + 1\n",
    "        for j=i+i*step:step:n\n",
    "            v[j] = false\n",
    "        end\n",
    "        if v[i]\n",
    "            target_nth -= 1\n",
    "            if 0 == target_nth\n",
    "                return i*2+1\n",
    "            end\n",
    "        end\n",
    "    end\n",
    "end\n",
    "\n",
    "v = trues(ub)\n",
    "@time sundaram_sieve(v, target_nth_prime)"
   ]
  },
  {
   "cell_type": "markdown",
   "metadata": {},
   "source": [
    "[type_doc]: http://julia.readthedocs.org/en/latest/manual/types/\n",
    "[methods]: http://julia.readthedocs.org/en/latest/manual/methods/#man-methods\n",
    "[eratosthenes]: https://en.wikipedia.org/wiki/Sieve_of_Eratosthenes\n",
    "[sundaram]: https://en.wikipedia.org/wiki/Sieve_of_Sundaram"
   ]
  },
  {
   "cell_type": "code",
   "execution_count": null,
   "metadata": {
    "collapsed": true
   },
   "outputs": [],
   "source": []
  }
 ],
 "metadata": {
  "kernelspec": {
   "display_name": "Julia 0.3.11",
   "language": "julia",
   "name": "julia-0.3"
  },
  "language_info": {
   "file_extension": ".jl",
   "mimetype": "application/julia",
   "name": "julia",
   "version": "0.3.11"
  }
 },
 "nbformat": 4,
 "nbformat_minor": 0
}
