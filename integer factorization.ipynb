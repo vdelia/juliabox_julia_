{
 "cells": [
  {
   "cell_type": "markdown",
   "metadata": {},
   "source": [
    "About comprehensions, BigInts, Interfaces, Tasks"
   ]
  },
  {
   "cell_type": "markdown",
   "metadata": {},
   "source": [
    "#  BigInts and array comprehensions: Fermat numbers\n",
    "\n",
    "A [Fermat number][fermat] is a positive integer of the form\n",
    "\n",
    "\n",
    "$F_n = 2 ^ {2^n} + 1$\n",
    "\n",
    "The only known Fermat number that are also primes are $F_0$, $F_1$, $F_2$, $F_3$, and $F_4$.\n",
    "In the following sections, I test two algorithms for prime decomposition on sequences of Fermat numbers.\n",
    "\n",
    "Julia does not promote automatically from Integer to BigInt.\n",
    "Thus, I prefer to explicitely handle overflows:\n",
    "if needed, I promote the argument $n$ to `BigInt`, to propagate the BigInt type everywhere.\n",
    "\n",
    "Note that in the following cell I build the array using an **array comprehension**."
   ]
  },
  {
   "cell_type": "code",
   "execution_count": null,
   "metadata": {
    "collapsed": false
   },
   "outputs": [],
   "source": [
    "function fermat(n::Integer)\n",
    "    if n >= 6\n",
    "        n = BigInt(n)\n",
    "    end\n",
    "    2 ^ (2^n) + 1\n",
    "end\n",
    "\n",
    "fermat(from, to) = [fermat(i) for i in from:to]\n",
    "\n",
    "fermat(0, 6)"
   ]
  },
  {
   "cell_type": "markdown",
   "metadata": {},
   "source": [
    "# Iteration interface and Tasks: Trial Division\n",
    "\n",
    "The most naive algorithm for integers factorization is [Trial Division][trial]: to find\n",
    "the prime factors of $N$, we try to divide it by all prime numbers smaller than  $\\sqrt{N}$.\n",
    "\n",
    "To generate the prime numbers, I use the Sundaram sieve, but I exploit the iteration\n",
    "interface of Julia to have a lazy implementation of it.\n",
    "\n",
    "\n",
    "## Iteration Interface: a lazy implementation of Sundaram Sieve\n",
    "\n",
    "Julia can be extended with new user defined types.\n",
    "which can be integrated seamlessly into the language by implementing the\n",
    "right [interfaces][interfaces].\n",
    "\n",
    "Consider for example the _for_ loop\n",
    "\n",
    "```\n",
    "for i in obj\n",
    "    do something with i\n",
    "end\n",
    "```\n",
    "\n",
    "It can work with any object implementing the iteration interface, i.e. the methods\n",
    "`start`, `next` and `done`.\n",
    "That loop is syntactic sugar equivalent to\n",
    "\n",
    "```\n",
    "state = start(obj)\n",
    "while !done(obj, state)\n",
    "    i, state = next(obj, state)\n",
    "end\n",
    "```"
   ]
  },
  {
   "cell_type": "markdown",
   "metadata": {},
   "source": [
    "To define a lazy version of the sundaram sieve, I create a new [composite type][composite-types],\n",
    "containing the `is_prime` array of booleans (a bit array in this implementation), and the upper bound $ub$.\n",
    "\n",
    "The type is parametric, since $ub$ can be `Integer` or `BigInt`."
   ]
  },
  {
   "cell_type": "code",
   "execution_count": null,
   "metadata": {
    "collapsed": false
   },
   "outputs": [],
   "source": [
    "immutable SundaramSieve{T}\n",
    "    is_prime::BitArray\n",
    "    ub::T\n",
    "end"
   ]
  },
  {
   "cell_type": "markdown",
   "metadata": {},
   "source": [
    "The iteration interface let me track the status of the iteration via the `state` object, which can be anything, and which is passed around by the three methods.\n",
    "\n",
    "I use as state the last index checked by the sieve.\n",
    "\n",
    "I start at 1, so `start` returns 1.\n",
    "\n",
    "If $p$ is the current state, then `done` is true if there are no more primes between $p$ and $ub$. But to know that, the sieve must have run until $ub$. Thus, we maintain the sieving process one step beyond the prime returned at current iteration:\n",
    "it computes until 7 but it returns 5; the next step it computes until 11 but it returns 7, and so on.\n",
    "\n",
    "`next` receives the state, which allows to compute the prime it has to return, but it runs one step of the sieve until the next prime, or $ub$."
   ]
  },
  {
   "cell_type": "code",
   "execution_count": null,
   "metadata": {
    "collapsed": false
   },
   "outputs": [],
   "source": [
    "sundaram_sieve(n::Integer) = SundaramSieve(trues(n), div(n, 2)+1)\n",
    "\n",
    "# the first state. In the state keep the last checked integer\n",
    "Base.start(s::SundaramSieve) = 1\n",
    "\n",
    "function Base.next(s::SundaramSieve, state)\n",
    "    \n",
    "    for i = state:s.ub\n",
    "        step = i * 2 + 1\n",
    "        for j=i+i*step:step:s.ub\n",
    "            s.is_prime[j] = false\n",
    "        end\n",
    "        if s.is_prime[i]\n",
    "            return (max(2, (state-1)*2+1), i+1)\n",
    "        end\n",
    "    end\n",
    "    (max(2, (state-1)*2+1), s.ub)\n",
    "end\n",
    "\n",
    "Base.done(s::SundaramSieve, state) = state >= s.ub"
   ]
  },
  {
   "cell_type": "code",
   "execution_count": null,
   "metadata": {
    "collapsed": false
   },
   "outputs": [],
   "source": [
    "for i in sundaram_sieve(10)\n",
    "    print(\"$i \")\n",
    "end\n",
    "\n",
    "collect(sundaram_sieve(10))"
   ]
  },
  {
   "cell_type": "markdown",
   "metadata": {},
   "source": [
    "Another way of implementing lazy evaluated sequences are [coroutines][tasks].\n",
    "\n",
    "\n",
    "## Intro to Coroutines\n",
    "\n",
    "Coroutines are functions whose evaluation can be suspended and resumed.\n",
    "To create a coroutine, pass your function to the `Task` function.\n",
    "\n",
    "To start, and resume, the execution of a coroutine use the method `consume`.\n",
    "The function wrapped inside, produces data, and returns the control to the caller of `consume`,\n",
    "using the `produce` function.\n",
    "\n",
    "Task implements also the iteration interface, and iterating on it is equivalent to calling\n",
    "`consume`.\n",
    "\n",
    "Julia's runtime provides a scheduler to coordinate the execution of multiple coroutines.\n",
    "Julia's coroutines always run in a single process, and they are scheduled with a cooperative\n",
    "multitasking strategy: each coroutine has the responsibility\n",
    "to release the control to other coroutines, by executing blocking operations (like reading from a Channel)\n",
    "or by calling `yield` or `produce`. For the moment we will use them just as iterators,\n",
    "but in the following sections we will see how to actually exploit them to coordinate\n",
    "parallel tasks execution."
   ]
  },
  {
   "cell_type": "code",
   "execution_count": null,
   "metadata": {
    "collapsed": false
   },
   "outputs": [],
   "source": [
    "function trial_division(n)\n",
    "    function _f()\n",
    "        if n < 2\n",
    "            return\n",
    "        end\n",
    "        ub::Integer = ceil(sqrt(n)) + 1\n",
    "    \n",
    "        for prime in sundaram_sieve(ub)\n",
    "            while n % prime == 0\n",
    "                produce(prime)\n",
    "                n = div(n, prime)\n",
    "            end\n",
    "        end\n",
    "        if n > 1\n",
    "            produce(n)\n",
    "        end\n",
    "    end\n",
    "    Task(_f)\n",
    "end"
   ]
  },
  {
   "cell_type": "code",
   "execution_count": null,
   "metadata": {
    "collapsed": false
   },
   "outputs": [],
   "source": [
    "f5 = fermat(5)\n",
    "print(\"$f5 = 1\")\n",
    "for factor in trial_division(f5)\n",
    "    print(\" * $factor\")\n",
    "end"
   ]
  },
  {
   "cell_type": "markdown",
   "metadata": {},
   "source": [
    "Unfortunately we cannot run this algorithm for bigger $F$s, since we are not able to store the sieve."
   ]
  },
  {
   "cell_type": "code",
   "execution_count": null,
   "metadata": {
    "collapsed": false
   },
   "outputs": [],
   "source": [
    "collect(trial_division(fermat(6)))"
   ]
  },
  {
   "cell_type": "markdown",
   "metadata": {},
   "source": [
    "# Julia parallel computing: Pollard's rho algorithm\n",
    "\n",
    "The function `pollard_rho` is almost a copy&paste from the wikipedia [pseudo-code][rho].\n",
    "\n",
    "`pollard_rho` finds a divisor for the argument $n$. If it returns $x$ and $y$, s.t. $n = x * y$."
   ]
  },
  {
   "cell_type": "code",
   "execution_count": null,
   "metadata": {
    "collapsed": false
   },
   "outputs": [],
   "source": [
    "g(x, n) = (x^2 + 1) % n\n",
    "\n",
    "function pollard_rho(n)\n",
    "    x, y, d = 2, 2, 1\n",
    "    \n",
    "    if n % 2 == 0\n",
    "        d = 2\n",
    "    elseif n % 3 == 0\n",
    "        d = 3\n",
    "    else\n",
    "        while d == 1\n",
    "            x = g(x, n)\n",
    "            y = g(g(y, n), n)\n",
    "            d = gcd(abs(x-y), n)\n",
    "        end\n",
    "    end\n",
    "    d, div(n, d)\n",
    "end"
   ]
  },
  {
   "cell_type": "markdown",
   "metadata": {},
   "source": [
    "It is already able to do more things than our `trial_division`!"
   ]
  },
  {
   "cell_type": "code",
   "execution_count": null,
   "metadata": {
    "collapsed": false
   },
   "outputs": [],
   "source": [
    "f6 = fermat(6)\n",
    "x, y = pollard_rho(f6)\n",
    "\"$f6 = $x * $y\""
   ]
  },
  {
   "cell_type": "markdown",
   "metadata": {},
   "source": [
    "What is not able to do is returning all the factors of $n$. To do that, we must recursively apply \n",
    "`pollard_rho` to the factors of $n$, if they are different from $n$ and 1.\n",
    "\n",
    "Those operations can be easily parallelized. In Julia, parallelism starts with [cluster managers][parallel]."
   ]
  },
  {
   "cell_type": "markdown",
   "metadata": {},
   "source": [
    "## Cluster managers\n",
    "\n",
    "`ClusterManager`s allow to create, manage, destroy sets of related processes.\n",
    "\n",
    "Julia provides two of them:\n",
    "\n",
    "1.    `LocalManager`, used to manage processes on a single machine\n",
    "2.    `SSHManager`, to spawn processes on remote machines\n",
    "\n",
    "\n",
    "Only the initial process, called `master`, has the right to spawn new processes.\n",
    "\n",
    "To ask to the `LocalManager` to run 3 processes, we use"
   ]
  },
  {
   "cell_type": "code",
   "execution_count": null,
   "metadata": {
    "collapsed": false
   },
   "outputs": [],
   "source": [
    "missing_procs = 3 - nprocs() # nnprocs() returns the number of running processes\n",
    "if missing_procs > 0\n",
    "    addprocs(missing_procs)\n",
    "end"
   ]
  },
  {
   "cell_type": "markdown",
   "metadata": {},
   "source": [
    "Now we can ask to the ClusterManager to run functions on those processes.\n",
    "There is a reach API to do that, but the basic flow is\n",
    "\n",
    "1.    you run a remote call, getting immediately a `RemoteRef`\n",
    "2.    later on, you can `fetch` from a `RemoteRef` to get the actual result\n",
    "\n",
    "A `RemoteRef` is an implementation of a more general interface, called `Channel`.\n",
    "`Channel`s and shared memory (via `mmap`) are the basic building blocks for\n",
    "communication among tasks."
   ]
  },
  {
   "cell_type": "code",
   "execution_count": null,
   "metadata": {
    "collapsed": false
   },
   "outputs": [],
   "source": [
    "f = @spawn rand(10) # remote call\n",
    "fetch(f)            # fetch"
   ]
  },
  {
   "cell_type": "markdown",
   "metadata": {},
   "source": [
    "To run a remote call, the called function must be known to all the processes.\n",
    "This is not the case for `pollard_rho`.\n",
    "\n",
    "In general, we should run the cluster at the startup, and load our functions from a module.\n",
    "Here I will re-evaluate that function using the `everywhere` macro, which runs its argument everywhere."
   ]
  },
  {
   "cell_type": "code",
   "execution_count": null,
   "metadata": {
    "collapsed": false
   },
   "outputs": [],
   "source": [
    "@everywhere g(x, n) = (x^2 - 1) % n\n",
    "\n",
    "@everywhere function pollard_rho(n)\n",
    "    x, y, d = 2, 2, 1\n",
    "    \n",
    "    if n % 2 == 0\n",
    "        d = 2\n",
    "    elseif n % 3 == 0\n",
    "        d = 3\n",
    "    else\n",
    "        while d == 1\n",
    "            x = g(x, n)\n",
    "            y = g(g(y, n), n)\n",
    "            d = gcd(abs(x-y), n)\n",
    "        end\n",
    "    end\n",
    "    d, div(n, d)\n",
    "end"
   ]
  },
  {
   "cell_type": "code",
   "execution_count": null,
   "metadata": {
    "collapsed": false
   },
   "outputs": [],
   "source": [
    "f = @spawn pollard_rho(100)\n",
    "fetch(f)"
   ]
  },
  {
   "cell_type": "markdown",
   "metadata": {},
   "source": [
    "The API we are going to implement is the same of `trial_division`: from the point of view of the user, it produces lazily the results. Under the hood, it will run in parallel the factorization.\n",
    "\n",
    "To do this we need a scheduler function, which manages the execution of `pollard_rho` on new factors, as soon as they\n",
    "are found. This is where coroutines show their power."
   ]
  },
  {
   "cell_type": "markdown",
   "metadata": {},
   "source": [
    "## Channels, and more on Coroutines\n",
    "\n",
    "The basic data structure to handle communication and syncronization among tasks is **Channel**.\n",
    "Channels are shared queues that can be accessed by multiple readers, via `fetch` or `take!`,\n",
    "and by multiple writers, via `put!`.\n",
    "\n",
    "The size of Channels is finite. If there are no objects available, or if the channel is full,\n",
    "reading or writing are blocking operation.\n",
    "\n",
    "A `RemoteRef` is a Channel of size 1.\n",
    "\n",
    "\n",
    "To coordinate the remote execution of pollard_rho, we will use again coroutines. Remember? Julia runtime\n",
    "provides a scheduler to coordinate the execution of multiple coroutines. The control flow switches from a coroutine\n",
    "to another in case of a blocking operation, like reading from a channel, or by using `yield` or `produce`.\n",
    "\n",
    "Our scheduler has the responsibility of running `pollard_rho`, to find new factors, and synchronizing the execution\n",
    "of the tasks.\n",
    "\n",
    "`pollard_rho_factorization` works in this way:\n",
    "\n",
    "1.    It creates and returns a Channel `primes`. Coroutines will push on it new prime numbers. When everything is done, it will be closed. The user will get primes iterating over it\n",
    "\n",
    "2.    It creates a task to run `factor`. The macro `@schedule` wraps the statement it receives in a Task, and schedules it. Once `factor` is done, it closes the `primes` channel. At that point the loop will finish\n",
    "\n",
    "3.    `factor` creates a new task, using `@sync`. `@sync` is like `@schedule`, but it terminates once all tasks created in it are done\n",
    "\n",
    "4.    this task runs remotely `pollard_rho`.  `fetch` is blocking, so at that point the scheduler resumes another coroutine. Depending on the result, it decides whether to push the result to the channel, whether to create and schedule new coroutines running `factor` on it. `@async` creates and schedules coroutines, but it does not wait for their termination. Here we actually creates and runs two parallel tasks."
   ]
  },
  {
   "cell_type": "code",
   "execution_count": null,
   "metadata": {
    "collapsed": false
   },
   "outputs": [],
   "source": [
    "function pollard_rho_factorization(n)\n",
    "        \n",
    "    function factor(n, primes)\n",
    "        @sync begin\n",
    "            ref = @spawn pollard_rho(n)\n",
    "            x, y = fetch(ref)\n",
    "            if x == 1\n",
    "                put!(primes, y)\n",
    "            elseif y == 1\n",
    "                put!(primes, x)\n",
    "            else\n",
    "                @async factor(x, primes)\n",
    "                @async factor(y, primes)\n",
    "            end\n",
    "        end\n",
    "    end\n",
    "\n",
    "    primes = Channel()\n",
    "    @schedule begin\n",
    "        factor(n, primes)\n",
    "        close(primes)\n",
    "    end\n",
    "    primes\n",
    "end"
   ]
  },
  {
   "cell_type": "code",
   "execution_count": null,
   "metadata": {
    "collapsed": false
   },
   "outputs": [],
   "source": [
    "test = reduce(*, map(fermat, 1:6))\n",
    "print(\"$test = 1\")\n",
    "for factor in pollard_rho_factorization(test)\n",
    "    print(\" * $factor\")\n",
    "end"
   ]
  },
  {
   "cell_type": "markdown",
   "metadata": {},
   "source": [
    "[interfaces]: http://docs.julialang.org/en/release-0.4/manual/interfaces/\n",
    "[composite-types]: http://docs.julialang.org/en/release-0.4/manual/types/#composite-types\n",
    "[trial]: https://en.wikipedia.org/wiki/Trial_division\n",
    "[tasks]: http://docs.julialang.org/en/release-0.4/manual/control-flow/#man-tasks\n",
    "[rho]: https://en.wikipedia.org/wiki/Pollard%27s_rho_algorithm\n",
    "[fermat]: https://en.wikipedia.org/wiki/Fermat_number\n",
    "[parallel]: http://docs.julialang.org/en/release-0.4/manual/parallel-computing/\n",
    "[lenstra]: https://en.wikipedia.org/wiki/Lenstra_elliptic_curve_factorization\n",
    "[elliptic_group]: https://en.wikipedia.org/wiki/Elliptic_curve#The_group_law\n",
    "[elliptic_mult]: https://en.m.wikipedia.org/wiki/Elliptic_curve_point_multiplication"
   ]
  },
  {
   "cell_type": "code",
   "execution_count": null,
   "metadata": {
    "collapsed": true
   },
   "outputs": [],
   "source": []
  }
 ],
 "metadata": {
  "kernelspec": {
   "display_name": "Julia 0.5.0-dev",
   "language": "julia",
   "name": "julia-0.5"
  },
  "language_info": {
   "file_extension": ".jl",
   "mimetype": "application/julia",
   "name": "julia",
   "version": "0.5.0"
  }
 },
 "nbformat": 4,
 "nbformat_minor": 0
}
