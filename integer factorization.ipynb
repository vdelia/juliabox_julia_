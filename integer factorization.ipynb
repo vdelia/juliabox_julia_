{
 "cells": [
  {
   "cell_type": "markdown",
   "metadata": {},
   "source": [
    "# Trial Division\n",
    "\n",
    "The most naive algorithm for integers factorization is [Trial Division][trial]: to find\n",
    "the prime factors of $N$, we try to divide it by all prime numbers smaller than  $\\sqrt{N}$.\n",
    "\n",
    "To generate the prime numbers, I use the Sundaram sieve, but I exploit the iteration\n",
    "interface of Julia to have a lazy implementation of it.\n",
    "\n",
    "\n",
    "## Iteration Interface: a lazy implementation of Sundaram Sieve\n",
    "\n",
    "Julia can be extended with new user defined types.\n",
    "which can be integrated seamlessly into the language by implementing the\n",
    "right [interfaces][interfaces].\n",
    "\n",
    "Consider for example the _for_ loop\n",
    "\n",
    "```\n",
    "for i in obj\n",
    "    do something with i\n",
    "end\n",
    "```\n",
    "\n",
    "It can work with any object implementing the iteration interface, i.e. the methods\n",
    "`start`, `next` and `done`.\n",
    "That loop is syntactic sugar equivalent to\n",
    "\n",
    "```\n",
    "state = start(obj)\n",
    "while !done(obj, state)\n",
    "    i, state = next(obj, state)\n",
    "end\n",
    "```"
   ]
  },
  {
   "cell_type": "markdown",
   "metadata": {},
   "source": [
    "To define a lazy version of the sundaram sieve, I create a new [composite type][composite-types],\n",
    "containing the `is_prime` array of booleans (a bit array in this implementation), and the upper bound $ub$.\n",
    "\n",
    "The type is parametric, since $ub$ can be if any type derived from `Integer`."
   ]
  },
  {
   "cell_type": "code",
   "execution_count": 104,
   "metadata": {
    "collapsed": false
   },
   "outputs": [
    {
     "ename": "LoadError",
     "evalue": "invalid redefinition of constant SundaramSieve\nwhile loading In[104], in expression starting on line 1",
     "output_type": "error",
     "traceback": [
      "invalid redefinition of constant SundaramSieve\nwhile loading In[104], in expression starting on line 1",
      ""
     ]
    }
   ],
   "source": [
    "immutable SundaramSieve{T<:Integer}\n",
    "    is_prime::BitArray\n",
    "    ub::T\n",
    "end"
   ]
  },
  {
   "cell_type": "markdown",
   "metadata": {},
   "source": [
    "The iteration interface let me track the status of the iteration via the `state` object, which can be anything, and which is passed around by the three methods.\n",
    "\n",
    "I use as state the last index checked by the sieve.\n",
    "\n",
    "I start at 1, so `start` returns 1.\n",
    "\n",
    "If $p$ is the current state, then `done` is true if there are no more primes between $p$ and $ub$. But to know that, the sieve must have run until $ub$. Thus, we maintain the sieving process one step beyond the prime returned at current iteration:\n",
    "it computes until 7 but it returns 5; the next step it computes until 11 but it returns 7, and so on.\n",
    "\n",
    "`next` receives the state, which allows to compute the prime it has to return, but it runs one step of the sieving until the next prime, or $ub$."
   ]
  },
  {
   "cell_type": "code",
   "execution_count": 105,
   "metadata": {
    "collapsed": false
   },
   "outputs": [
    {
     "data": {
      "text/plain": [
       "done (generic function with 37 methods)"
      ]
     },
     "execution_count": 105,
     "metadata": {},
     "output_type": "execute_result"
    }
   ],
   "source": [
    "sundaram_sieve(n::Integer) = SundaramSieve(trues(n), div(n, 2)+1)\n",
    "\n",
    "# the first state. In the state keep the last checked integer\n",
    "Base.start(s::SundaramSieve) = 1\n",
    "\n",
    "function Base.next(s::SundaramSieve, state)\n",
    "    \n",
    "    for i = state:s.ub\n",
    "        step = i * 2 + 1\n",
    "        for j=i+i*step:step:s.ub\n",
    "            s.is_prime[j] = false\n",
    "        end\n",
    "        if s.is_prime[i]\n",
    "            return (max(2, (state-1)*2+1), i+1)\n",
    "        end\n",
    "    end\n",
    "    (max(2, (state-1)*2+1), s.ub)\n",
    "end\n",
    "\n",
    "Base.done(s::SundaramSieve, state) = state >= s.ub"
   ]
  },
  {
   "cell_type": "code",
   "execution_count": 106,
   "metadata": {
    "collapsed": false
   },
   "outputs": [
    {
     "name": "stdout",
     "output_type": "stream",
     "text": [
      "2 3 5 7 11 13 17 19 23 29 31 "
     ]
    }
   ],
   "source": [
    "for i in sundaram_sieve(35)\n",
    "    print(\"$i \")\n",
    "end"
   ]
  },
  {
   "cell_type": "markdown",
   "metadata": {},
   "source": [
    "Another way of implementing lazy evaluated sequences are [coroutines][tasks].\n",
    "\n",
    "\n",
    "## Coroutine\n",
    "\n",
    "A coroutine is function whose evaluation can be suspended and resumed.\n",
    "To create a coroutine, pass your function to the `Task` function.\n",
    "Your function can produce data, and pass the control to the caller,\n",
    "using the  `produce` function.\n",
    "\n",
    "You can resume the coroutine execution using the `consume` function.\n",
    "A Task implements also the iteration interface, so you can iterate over it\n",
    "instead of explicitely calling `consume`."
   ]
  },
  {
   "cell_type": "code",
   "execution_count": 107,
   "metadata": {
    "collapsed": false
   },
   "outputs": [
    {
     "data": {
      "text/plain": [
       "trial_division (generic function with 1 method)"
      ]
     },
     "execution_count": 107,
     "metadata": {},
     "output_type": "execute_result"
    }
   ],
   "source": [
    "function trial_division(n)\n",
    "    function _f()\n",
    "        if n < 2\n",
    "            return\n",
    "        end\n",
    "        ub::Integer = ceil(sqrt(n)) + 1\n",
    "    \n",
    "        for prime in sundaram_sieve(ub)\n",
    "            while n % prime == 0\n",
    "                produce(prime)\n",
    "                n = div(n, prime)\n",
    "            end\n",
    "        end\n",
    "        if n > 1\n",
    "            produce(n)\n",
    "        end\n",
    "    end\n",
    "    Task(_f)\n",
    "end"
   ]
  },
  {
   "cell_type": "code",
   "execution_count": 117,
   "metadata": {
    "collapsed": false
   },
   "outputs": [
    {
     "name": "stdout",
     "output_type": "stream",
     "text": [
      "2 5 "
     ]
    }
   ],
   "source": [
    "for factor in trial_division(10)\n",
    "    print(\"$factor \")\n",
    "end"
   ]
  },
  {
   "cell_type": "markdown",
   "metadata": {},
   "source": [
    "[interfaces]: http://docs.julialang.org/en/release-0.4/manual/interfaces/\n",
    "[composite-types]: http://docs.julialang.org/en/release-0.4/manual/types/#composite-types\n",
    "[trial]: https://en.wikipedia.org/wiki/Trial_division\n",
    "[tasks]: http://docs.julialang.org/en/release-0.4/manual/control-flow/#man-tasks"
   ]
  }
 ],
 "metadata": {
  "kernelspec": {
   "display_name": "Julia 0.3.11",
   "language": "julia",
   "name": "julia-0.3"
  },
  "language_info": {
   "file_extension": ".jl",
   "mimetype": "application/julia",
   "name": "julia",
   "version": "0.3.11"
  }
 },
 "nbformat": 4,
 "nbformat_minor": 0
}
