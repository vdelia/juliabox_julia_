{
 "cells": [
  {
   "cell_type": "markdown",
   "metadata": {},
   "source": [
    "About comprehensions, BigInts, Interfaces, Tasks"
   ]
  },
  {
   "cell_type": "markdown",
   "metadata": {},
   "source": [
    "#  Fermat numbers\n",
    "\n",
    "A [Fermat number][fermat] is a positive integer of the form\n",
    "\n",
    "\n",
    "$F_n = 2 ^ {2^n} + 1$\n",
    "\n",
    "Currently, the only known Fermat number that are also primes are $F_0$, $F_1$, $F_2$, $F_3$, and $F_4$.\n",
    "\n",
    "In the following sections, I will implement different algorithms for prime decomposition,\n",
    "and I will test them on sequences of Fermat numbers.\n",
    "\n",
    "Julia does not promote automatically from Integer to BigInt.\n",
    "Thus, I prefer to explicitely handle overflows:\n",
    "if needed, I promote the argument $n$ to `BigInt`, to propagate the BigInt type everywhere.\n",
    "\n",
    "Note that in the following cell I build the array using a **comprehension**."
   ]
  },
  {
   "cell_type": "code",
   "execution_count": 1,
   "metadata": {
    "collapsed": false
   },
   "outputs": [
    {
     "data": {
      "text/plain": [
       "7-element Array{Union(Int64,BigInt),1}:\n",
       "                    3\n",
       "                    5\n",
       "                   17\n",
       "                  257\n",
       "                65537\n",
       "           4294967297\n",
       " 18446744073709551617"
      ]
     },
     "execution_count": 1,
     "metadata": {},
     "output_type": "execute_result"
    }
   ],
   "source": [
    "function fermat(n::Integer)\n",
    "    if n >= 6\n",
    "        n = BigInt(n)\n",
    "    end\n",
    "    2 ^ (2^n) + 1\n",
    "end\n",
    "\n",
    "fermat(from, to) = [fermat(i) for i in from:to]\n",
    "\n",
    "fermat(0, 6)"
   ]
  },
  {
   "cell_type": "markdown",
   "metadata": {},
   "source": [
    "# Iteration interface and Tasks: Trial Division\n",
    "\n",
    "The most naive algorithm for integers factorization is [Trial Division][trial]: to find\n",
    "the prime factors of $N$, we try to divide it by all prime numbers smaller than  $\\sqrt{N}$.\n",
    "\n",
    "To generate the prime numbers, I use the Sundaram sieve, but I exploit the iteration\n",
    "interface of Julia to have a lazy implementation of it.\n",
    "\n",
    "\n",
    "## Iteration Interface: a lazy implementation of Sundaram Sieve\n",
    "\n",
    "Julia can be extended with new user defined types.\n",
    "which can be integrated seamlessly into the language by implementing the\n",
    "right [interfaces][interfaces].\n",
    "\n",
    "Consider for example the _for_ loop\n",
    "\n",
    "```\n",
    "for i in obj\n",
    "    do something with i\n",
    "end\n",
    "```\n",
    "\n",
    "It can work with any object implementing the iteration interface, i.e. the methods\n",
    "`start`, `next` and `done`.\n",
    "That loop is syntactic sugar equivalent to\n",
    "\n",
    "```\n",
    "state = start(obj)\n",
    "while !done(obj, state)\n",
    "    i, state = next(obj, state)\n",
    "end\n",
    "```"
   ]
  },
  {
   "cell_type": "markdown",
   "metadata": {},
   "source": [
    "To define a lazy version of the sundaram sieve, I create a new [composite type][composite-types],\n",
    "containing the `is_prime` array of booleans (a bit array in this implementation), and the upper bound $ub$.\n",
    "\n",
    "The type is parametric, since $ub$ can be `Integer` or `BigInt`."
   ]
  },
  {
   "cell_type": "code",
   "execution_count": 2,
   "metadata": {
    "collapsed": false
   },
   "outputs": [],
   "source": [
    "immutable SundaramSieve{T}\n",
    "    is_prime::BitArray\n",
    "    ub::T\n",
    "end"
   ]
  },
  {
   "cell_type": "markdown",
   "metadata": {},
   "source": [
    "The iteration interface let me track the status of the iteration via the `state` object, which can be anything, and which is passed around by the three methods.\n",
    "\n",
    "I use as state the last index checked by the sieve.\n",
    "\n",
    "I start at 1, so `start` returns 1.\n",
    "\n",
    "If $p$ is the current state, then `done` is true if there are no more primes between $p$ and $ub$. But to know that, the sieve must have run until $ub$. Thus, we maintain the sieving process one step beyond the prime returned at current iteration:\n",
    "it computes until 7 but it returns 5; the next step it computes until 11 but it returns 7, and so on.\n",
    "\n",
    "`next` receives the state, which allows to compute the prime it has to return, but it runs one step of the sieving until the next prime, or $ub$."
   ]
  },
  {
   "cell_type": "code",
   "execution_count": 3,
   "metadata": {
    "collapsed": false
   },
   "outputs": [
    {
     "data": {
      "text/plain": [
       "done (generic function with 37 methods)"
      ]
     },
     "execution_count": 3,
     "metadata": {},
     "output_type": "execute_result"
    }
   ],
   "source": [
    "sundaram_sieve(n::Integer) = SundaramSieve(trues(n), div(n, 2)+1)\n",
    "\n",
    "# the first state. In the state keep the last checked integer\n",
    "Base.start(s::SundaramSieve) = 1\n",
    "\n",
    "function Base.next(s::SundaramSieve, state)\n",
    "    \n",
    "    for i = state:s.ub\n",
    "        step = i * 2 + 1\n",
    "        for j=i+i*step:step:s.ub\n",
    "            s.is_prime[j] = false\n",
    "        end\n",
    "        if s.is_prime[i]\n",
    "            return (max(2, (state-1)*2+1), i+1)\n",
    "        end\n",
    "    end\n",
    "    (max(2, (state-1)*2+1), s.ub)\n",
    "end\n",
    "\n",
    "Base.done(s::SundaramSieve, state) = state >= s.ub"
   ]
  },
  {
   "cell_type": "code",
   "execution_count": 4,
   "metadata": {
    "collapsed": false
   },
   "outputs": [
    {
     "name": "stdout",
     "output_type": "stream",
     "text": [
      "2 3 5 7 "
     ]
    },
    {
     "data": {
      "text/plain": [
       "4-element Array{Any,1}:\n",
       " 2\n",
       " 3\n",
       " 5\n",
       " 7"
      ]
     },
     "execution_count": 4,
     "metadata": {},
     "output_type": "execute_result"
    }
   ],
   "source": [
    "for i in sundaram_sieve(10)\n",
    "    print(\"$i \")\n",
    "end\n",
    "\n",
    "collect(sundaram_sieve(10))"
   ]
  },
  {
   "cell_type": "markdown",
   "metadata": {},
   "source": [
    "Another way of implementing lazy evaluated sequences are [coroutines][tasks].\n",
    "\n",
    "\n",
    "## Coroutines\n",
    "Coroutines are functions whose evaluation can be suspended and resumed.\n",
    "To create a coroutine, pass your function to the `Task` function.\n",
    "Your function can produce data, and return the control to the caller,\n",
    "using the  `produce` function.\n",
    "\n",
    "The coroutine execution can be resumed by using the `consume` function.\n",
    "A Task implements also the iteration interface, so you can iterate over it\n",
    "instead of explicitely calling `consume`."
   ]
  },
  {
   "cell_type": "code",
   "execution_count": 5,
   "metadata": {
    "collapsed": false
   },
   "outputs": [
    {
     "data": {
      "text/plain": [
       "trial_division (generic function with 1 method)"
      ]
     },
     "execution_count": 5,
     "metadata": {},
     "output_type": "execute_result"
    }
   ],
   "source": [
    "function trial_division(n)\n",
    "    function _f()\n",
    "        if n < 2\n",
    "            return\n",
    "        end\n",
    "        ub::Integer = ceil(sqrt(n)) + 1\n",
    "    \n",
    "        for prime in sundaram_sieve(ub)\n",
    "            while n % prime == 0\n",
    "                produce(prime)\n",
    "                n = div(n, prime)\n",
    "            end\n",
    "        end\n",
    "        if n > 1\n",
    "            produce(n)\n",
    "        end\n",
    "    end\n",
    "    Task(_f)\n",
    "end"
   ]
  },
  {
   "cell_type": "code",
   "execution_count": 6,
   "metadata": {
    "collapsed": false
   },
   "outputs": [
    {
     "name": "stdout",
     "output_type": "stream",
     "text": [
      "4294967297 = 1 * 641 * 6700417"
     ]
    }
   ],
   "source": [
    "f5 = fermat(5)\n",
    "print(\"$f5 = 1\")\n",
    "for factor in trial_division(f5)\n",
    "    print(\" * $factor\")\n",
    "end"
   ]
  },
  {
   "cell_type": "markdown",
   "metadata": {},
   "source": [
    "Unfortunately we cannot run this algorithm for bigger $F$s, since we are not able to store the sieve."
   ]
  },
  {
   "cell_type": "code",
   "execution_count": 7,
   "metadata": {
    "collapsed": false
   },
   "outputs": [
    {
     "ename": "LoadError",
     "evalue": "`BitArray{N}` has no method matching BitArray{N}(::BigInt)\nwhile loading In[7], in expression starting on line 1",
     "output_type": "error",
     "traceback": [
      "`BitArray{N}` has no method matching BitArray{N}(::BigInt)\nwhile loading In[7], in expression starting on line 1",
      "",
      " in schedule_and_wait at task.jl:256",
      " in consume at task.jl:167",
      " in collect at array.jl:233",
      " in collect at array.jl:240"
     ]
    }
   ],
   "source": [
    "collect(trial_division(fermat(6)))"
   ]
  },
  {
   "cell_type": "markdown",
   "metadata": {},
   "source": [
    "# Julia parallel computing: Pollard's rho algorithm\n",
    "\n",
    "The function `pollard_rho` is almost a copy&paste from the wikipedia [pseudo-code][rho].\n",
    "\n",
    "It is (most likely) able to find a divisor for the argument $n$. If it returns $n$, then $n$ can be prime,\n",
    "or we should try with a different `g` or initial values of $x$ and $y$."
   ]
  },
  {
   "cell_type": "code",
   "execution_count": 12,
   "metadata": {
    "collapsed": false
   },
   "outputs": [
    {
     "data": {
      "text/plain": [
       "pollard_rho (generic function with 1 method)"
      ]
     },
     "execution_count": 12,
     "metadata": {},
     "output_type": "execute_result"
    }
   ],
   "source": [
    "g(x, n) = (x^2 + 1) % n\n",
    "\n",
    "function pollard_rho(n)\n",
    "    x, y, d = 2, 2, 1\n",
    "    \n",
    "    while d == 1\n",
    "        x = g(x, n)\n",
    "        y = g(g(y, n), n)\n",
    "        d = gcd(abs(x-y), n)\n",
    "    end\n",
    "    d, div(n, d)\n",
    "end"
   ]
  },
  {
   "cell_type": "markdown",
   "metadata": {},
   "source": [
    "It is already able to do more things than our `trial_division`!"
   ]
  },
  {
   "cell_type": "code",
   "execution_count": 13,
   "metadata": {
    "collapsed": false
   },
   "outputs": [
    {
     "data": {
      "text/plain": [
       "\"18446744073709551617 = 274177 * 67280421310721\""
      ]
     },
     "execution_count": 13,
     "metadata": {},
     "output_type": "execute_result"
    }
   ],
   "source": [
    "f6 = fermat(6)\n",
    "x, y = pollard_rho(f6)\n",
    "\"$f6 = $x * $y\""
   ]
  },
  {
   "cell_type": "markdown",
   "metadata": {},
   "source": [
    "What is not able to do is returning all the factors of $n$. To do that we must simply recursively apply \n",
    "`pollard_rho` to the two factors of $n$, if they are different from $n$ and 1.\n",
    "\n",
    "This can be parallelized, by exploiting coroutines."
   ]
  },
  {
   "cell_type": "markdown",
   "metadata": {},
   "source": [
    "## Cluster managers\n",
    "\n",
    "To start, we need to create a bunch of coordinated logical processes. This is the role of `ClusterManager`s.\n",
    "Julia provides two of them:\n",
    "\n",
    "1.    `LocalManager`, used to add processes on a single machine\n",
    "2.    `SSHManager`, to spawn processes on remote machines\n",
    "\n",
    "\n",
    "Only the initial processes, called `master`, has the right of spawning new processes.\n",
    "\n",
    "To ask to the `LocalManager` to create 2 new local processes, we use"
   ]
  },
  {
   "cell_type": "code",
   "execution_count": 14,
   "metadata": {
    "collapsed": false
   },
   "outputs": [],
   "source": [
    "#addprocs(2)"
   ]
  },
  {
   "cell_type": "code",
   "execution_count": 15,
   "metadata": {
    "collapsed": false
   },
   "outputs": [
    {
     "data": {
      "text/plain": [
       "pollard_rho_factorization (generic function with 1 method)"
      ]
     },
     "execution_count": 15,
     "metadata": {},
     "output_type": "execute_result"
    }
   ],
   "source": [
    "function pollard_rho_factorization(n)\n",
    "\n",
    "    function get_factors(n)\n",
    "        x, y = pollard_rho(n)\n",
    "        _keep_factoring(x, n)\n",
    "        _keep_factoring(y, n)\n",
    "    end\n",
    "    \n",
    "    function _keep_factoring(x, n)\n",
    "        if x > 3 && x != n\n",
    "            @async get_factors(x)\n",
    "        else\n",
    "            produce(x)\n",
    "        end\n",
    "    end\n",
    "    \n",
    "    @async get_factors(n)\n",
    "end"
   ]
  },
  {
   "cell_type": "code",
   "execution_count": 17,
   "metadata": {
    "collapsed": false
   },
   "outputs": [],
   "source": [
    "for i in pollard_rho_factorization(f6)\n",
    "    print(\"_ \")\n",
    "end"
   ]
  },
  {
   "cell_type": "markdown",
   "metadata": {},
   "source": [
    "[interfaces]: http://docs.julialang.org/en/release-0.4/manual/interfaces/\n",
    "[composite-types]: http://docs.julialang.org/en/release-0.4/manual/types/#composite-types\n",
    "[trial]: https://en.wikipedia.org/wiki/Trial_division\n",
    "[tasks]: http://docs.julialang.org/en/release-0.4/manual/control-flow/#man-tasks\n",
    "[rho]: https://en.wikipedia.org/wiki/Pollard%27s_rho_algorithm\n",
    "[fermat]: https://en.wikipedia.org/wiki/Fermat_number"
   ]
  }
 ],
 "metadata": {
  "kernelspec": {
   "display_name": "Julia 0.3.11",
   "language": "julia",
   "name": "julia-0.3"
  },
  "language_info": {
   "file_extension": ".jl",
   "mimetype": "application/julia",
   "name": "julia",
   "version": "0.3.11"
  }
 },
 "nbformat": 4,
 "nbformat_minor": 0
}
